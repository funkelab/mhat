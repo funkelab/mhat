{
 "cells": [
  {
   "cell_type": "markdown",
   "metadata": {},
   "source": [
    "# Exercise 9: Tracking-by-detection with an integer linear program (ILP)\n",
    "\n",
    "Objective:\n",
    "- Write a pipeline that takes in cell detections and links them across time to obtain lineage trees\n",
    "\n",
    "Methods/Tools:\n",
    "\n",
    "- **`networkx`**: To represent the tracking inputs and outputs as graphs. Tracking is often framed\n",
    "    as a graph optimization problem. Nodes in the graph represent detections, and edges represent links\n",
    "    across time. The \"tracking\" task is then framed as selecting the correct edges to link your detections.\n",
    "- **`motile`**: To set up and solve an Integer Lineage Program (ILP) for tracking.\n",
    "    ILP-based methods frame tracking as a constrained optimization problem. The task is to select a subset of nodes/edges from a \"candidate graph\" of all possible nodes/edges. The subset must minimize user-defined costs (e.g. edge distance), while also satisfying a set of tracking constraints (e.g. each cell is linked to at most one cell in the previous frame). Note: this tracking approach is not inherently using\n",
    "    \"deep learning\" - the costs and constraints are usually hand-crafted to encode biological and data-based priors, although cost features can also be learned from data.\n",
    "- **`napari`**: To visualize tracking inputs and outputs. Qualitative analysis is crucial for tuning the \n",
    "    weights of the objective function and identifying data-specific costs and constraints.\n",
    "- **`traccuracy`**: To evaluate tracking results. Metrics such as accuracy can be misleading for tracking,\n",
    "    because rare events such as divisions are much harder than the common linking tasks, and might\n",
    "    be more biologically relevant for downstream analysis. Therefore, it is important to evaluate on\n",
    "    a wide range of error metrics and determine which are most important for your use case.\n",
    "\n",
    "After running through the full tracking pipeline, from loading to evaluation, we will learn how to **incorporate custom costs** based on dataset-specific prior information. As a bonus exercise, \n",
    "you can learn how to **learn the best cost weights** for a task from\n",
    "from a small amount of ground truth tracking information.\n",
    "\n",
    "You can run this notebook on your laptop, a GPU is not needed.\n",
    "\n",
    "<div class=\"alert alert-danger\">\n",
    "Set your python kernel to <code>09-tracking</code>\n",
    "</div>\n",
    "\n",
    "Places where you are expected to write code are marked with\n",
    "```\n",
    "### YOUR CODE HERE ###\n",
    "```\n",
    "\n",
    "This notebook was originally written by Benjamin Gallusser, and was edited for 2024 by Caroline Malin-Mayor."
   ]
  },
  {
   "cell_type": "markdown",
   "metadata": {},
   "source": [
    "## Import packages"
   ]
  },
  {
   "cell_type": "code",
   "execution_count": 8,
   "metadata": {},
   "outputs": [
    {
     "name": "stdout",
     "output_type": "stream",
     "text": [
      "The autoreload extension is already loaded. To reload it, use:\n",
      "  %reload_ext autoreload\n"
     ]
    }
   ],
   "source": [
    "%load_ext autoreload\n",
    "%autoreload 2\n",
    "# TODO: remove"
   ]
  },
  {
   "cell_type": "code",
   "execution_count": 32,
   "metadata": {},
   "outputs": [],
   "source": [
    "import time\n",
    "from pathlib import Path\n",
    "\n",
    "import skimage\n",
    "import numpy as np\n",
    "import napari\n",
    "import networkx as nx\n",
    "import plotly.io as pio\n",
    "import scipy\n",
    "\n",
    "pio.renderers.default = \"vscode\"\n",
    "\n",
    "import motile\n",
    "#from motile.plot import draw_track_graph, draw_solution\n",
    "#from track_utils import InOutSymmetry, MinTrackLength\n",
    "\n",
    "import traccuracy\n",
    "from traccuracy import run_metrics\n",
    "from traccuracy.metrics import CTCMetrics, DivisionMetrics\n",
    "from traccuracy.matchers import CTCMatcher\n",
    "import zarr\n",
    "from motile_toolbox.visualization import to_napari_tracks_layer\n",
    "from motile.constraints import MaxParents, MaxChildren\n",
    "from motile.costs import Appear\n",
    "from napari.layers import Tracks\n",
    "from csv import DictReader\n",
    "import pandas as pd\n",
    "\n",
    "from tqdm.auto import tqdm\n",
    "\n",
    "from typing import Iterable, Any"
   ]
  },
  {
   "cell_type": "markdown",
   "metadata": {},
   "source": [
    "## Load the dataset and inspect it in napari"
   ]
  },
  {
   "cell_type": "markdown",
   "metadata": {},
   "source": [
    "For this exercise we will be working with a fluorescence microscopy time-lapse of breast cancer cells with stained nuclei (SiR-DNA). It is similar to the dataset at https://zenodo.org/record/4034976#.YwZRCJPP1qt. The raw data, pre-computed segmentations, and detection probabilities are saved in a zarr, and the ground truth tracks are saved in a csv. The segmentation was generated with a pre-trained StartDist model, so there may be some segmentation errors which can affect the tracking process. The detection probabilities also come from StarDist, and are downsampled in x and y by 2 compared to the detections and raw data."
   ]
  },
  {
   "cell_type": "markdown",
   "metadata": {},
   "source": [
    "Here we load the raw image data, segmentation, and probabilities from the zarr, and view them in napari."
   ]
  },
  {
   "cell_type": "code",
   "execution_count": 23,
   "metadata": {},
   "outputs": [],
   "source": [
    "data_path = \"/nrs/funke/data/darts/synthetic_data/test1/2/data.zarr\"\n",
    "data_root = zarr.open(data_path, 'r')\n",
    "image_data = data_root[\"phase\"][:]\n",
    "segmentation = data_root[\"pred_mask_0.15\"][:]\n",
    "probabilities = data_root[\"mask\"][:]"
   ]
  },
  {
   "cell_type": "markdown",
   "metadata": {},
   "source": [
    "Let's use [napari](https://napari.org/tutorials/fundamentals/getting_started.html) to visualize the data. Napari is a wonderful viewer for imaging data that you can interact with in python, even directly out of jupyter notebooks. If you've never used napari, you might want to take a few minutes to go through [this tutorial](https://napari.org/stable/tutorials/fundamentals/viewer.html)."
   ]
  },
  {
   "cell_type": "code",
   "execution_count": null,
   "metadata": {},
   "outputs": [],
   "source": [
    "viewer = napari.Viewer()\n",
    "viewer.add_image(image_data, name=\"phase\")\n",
    "viewer.add_labels(segmentation, name=\"seg\")\n",
    "viewer.add_image(probabilities, name=\"probs\", scale=(1, 2, 2))"
   ]
  },
  {
   "cell_type": "markdown",
   "metadata": {},
   "source": [
    "## Task 1: Read in the ground truth graph\n",
    "\n",
    "In addition to the image data and segmentations, we also have a ground truth tracking solution.\n",
    "The ground truth tracks are stored in a CSV with five columns: id, time, x, y, and parent_id.\n",
    "\n",
    "Each row in the CSV represents a detection at location (time, x, y) with the given id.\n",
    "If the parent_id is not -1, it represents the id of the parent detection in the previous time frame.\n",
    "For cell tracking, tracks can usually be stored in this format, because there is no merging.\n",
    "With merging, a more complicated data struture would be needed.\n",
    "\n",
    "Note that there are no ground truth segmentations - each detection is just a point representing the center of a cell.\n"
   ]
  },
  {
   "cell_type": "markdown",
   "metadata": {},
   "source": [
    "\n",
    "<div class=\"alert alert-block alert-info\"><h3>Task 1: Read in the ground truth graph</h3>\n",
    "\n",
    "For this task, you will read in the csv and store the tracks as a <a href=https://en.wikipedia.org/wiki/Directed_graph>directed graph</a> using the `networkx` library. Take a look at the documentation for the networkx DiGraph <a href=https://networkx.org/documentation/stable/reference/classes/digraph.html>here</a> to learn how to create a graph, add nodes and edges with attributes, and access those nodes and edges.\n",
    "\n",
    "Here are the requirements for the graph:\n",
    "<ol>\n",
    "    <li>Each row in the CSV becomes a node in the graph</li>\n",
    "    <li>The node id is an integer specified by the \"id\" column in the csv</li>\n",
    "    <li>Each node has an integer \"time\" attribute specified by the \"time\" column in the csv</li>\n",
    "    <li>Each node has a list[float] \"pos\" attribute containing the [\"x\", \"y\"] values from the csv</li>\n",
    "    <li>If the parent_id is not -1, then there is an edge in the graph from \"parent_id\" to \"id\"</li>\n",
    "</ol>\n",
    "\n",
    "You can read the CSV using basic python file io, csv.DictReader, pandas, or any other tool you are comfortable with. If not using pandas, remember to cast your read in values from strings to integers or floats.\n",
    "</div>\n"
   ]
  },
  {
   "cell_type": "code",
   "execution_count": 15,
   "metadata": {},
   "outputs": [],
   "source": [
    "def read_gt_tracks():\n",
    "    gt_tracks = nx.DiGraph()\n",
    "    file = \"/nrs/funke/data/darts/synthetic_data/test1/1/gt_tracks.csv\"\n",
    "    with open(file) as f:\n",
    "        reader = DictReader(f)\n",
    "        for row in reader:\n",
    "            i_d = int(float(row[\"id\"]))\n",
    "            gt_tracks.add_node(i_d)\n",
    "            parent_id = int(float(row[\"parent_id\"]))\n",
    "            if parent_id != -1:\n",
    "                gt_tracks.add_edge(parent_id, i_d)\n",
    "    return gt_tracks\n",
    "\n",
    "gt_tracks = read_gt_tracks()"
   ]
  },
  {
   "cell_type": "code",
   "execution_count": null,
   "metadata": {},
   "outputs": [],
   "source": [
    "# run this cell to test your implementation\n",
    "assert gt_tracks.number_of_nodes() == 5490, f\"Found {gt_tracks.number_of_nodes()} nodes, expected 5490\"\n",
    "assert gt_tracks.number_of_edges() == 5120, f\"Found {gt_tracks.number_of_edges()} edges, expected 5120\"\n",
    "for node, data in gt_tracks.nodes(data=True):\n",
    "    assert type(node) == int, f\"Node id {node} has type {type(node)}, expected 'int'\"\n",
    "    assert \"time\" in data, f\"'time' attribute missing for node {node}\"\n",
    "    assert type(data[\"time\"]) == int, f\"'time' attribute has type {type(data['time'])}, expected 'int'\"\n",
    "    assert \"pos\" in data, f\"'pos' attribute missing for node {node}\"\n",
    "    assert type(data[\"pos\"]) == list, f\"'pos' attribute has type {type(data['pos'])}, expected 'list'\"\n",
    "    assert len(data[\"pos\"]) == 2, f\"'pos' attribute has length {len(data['pos'])}, expected 2\"\n",
    "    assert type(data[\"pos\"][0]) == float, f\"'pos' attribute element 0 has type {type(data['pos'][0])}, expected 'float'\"\n",
    "print(\"Your graph passed all the tests!\")"
   ]
  },
  {
   "cell_type": "markdown",
   "metadata": {},
   "source": [
    "We can also use the helper function `to_napari_tracks_layer` to visualize the ground truth tracks in our napari viewer."
   ]
  },
  {
   "cell_type": "code",
   "execution_count": null,
   "metadata": {},
   "outputs": [],
   "source": [
    "tracks_layer = to_napari_tracks_layer(\n",
    "    gt_tracks, frame_key=\"time\", location_key=\"pos\"\n",
    ")\n",
    "viewer.add_layer(tracks_layer)"
   ]
  },
  {
   "cell_type": "markdown",
   "metadata": {},
   "source": [
    "## Build a candidate graph from the detections\n",
    "\n",
    "To set up our tracking problem, we will create a \"candidate graph\" - a DiGraph that contains all possible detections (graph nodes) and links (graph edges) between them.\n",
    "\n",
    "Then we use an optimization method called an integer linear program (ILP) to select the best nodes and edges from the candidate graph to generate our final tracks.\n",
    "\n",
    "To create our candidate graph, we will use the provided StarDist segmentations.\n",
    "Each node in the candidate graph represents one segmentation, and each edge represents a potential link between segmentations. This candidate graph will also contain features that will be used in the optimization task, such as position on nodes and, later, customized scores on edges."
   ]
  },
  {
   "cell_type": "markdown",
   "metadata": {},
   "source": [
    "### Task 2: Extract candidate nodes from the predicted segmentations\n",
    "\n",
    "First we need to turn each segmentation into a node in a `networkx.DiGraph`. \n",
    "\n",
    "<div class=\"alert alert-block alert-info\"><h3>Task 2: Extract candidate nodes from the predicted segmentations</h3>\n",
    "Use <a href=https://scikit-image.org/docs/stable/api/skimage.measure.html#skimage.measure.regionprops>skimage.measure.regionprops</a> to extract properties from each segmentation, and create a candidate graph with nodes only.\n",
    "\n",
    "\n",
    "Here are the requirements for the output graph:\n",
    "<ol>\n",
    "    <li>Each detection (unique label id) in the segmentation becomes a node in the graph</li>\n",
    "    <li>The node id is the label of the detection</li>\n",
    "    <li>Each node has an integer \"time\" attribute, based on the index into the first dimension of the input segmentation array</li>\n",
    "    <li>Each node has a list[float] \"pos\" attribute containing the [\"x\", \"y\"] values from the centroid of the detection region</li>\n",
    "    <li>The graph has no edges (yet!)</li>\n",
    "</ol>\n",
    "</div>"
   ]
  },
  {
   "cell_type": "code",
   "execution_count": 24,
   "metadata": {},
   "outputs": [
    {
     "name": "stdout",
     "output_type": "stream",
     "text": [
      "Extracting nodes from segmentation\n"
     ]
    },
    {
     "data": {
      "application/vnd.jupyter.widget-view+json": {
       "model_id": "4bb7074b9185438bbcf40d4f1adf0218",
       "version_major": 2,
       "version_minor": 0
      },
      "text/plain": [
       "  0%|          | 0/100 [00:00<?, ?it/s]"
      ]
     },
     "metadata": {},
     "output_type": "display_data"
    }
   ],
   "source": [
    "def nodes_from_segmentation(segmentation: np.ndarray) -> nx.DiGraph:\n",
    "    \"\"\"Extract candidate nodes from a segmentation. \n",
    "\n",
    "    Args:\n",
    "        segmentation (np.ndarray): A numpy array with integer labels and dimensions\n",
    "            (t, y, x).\n",
    "\n",
    "    Returns:\n",
    "        nx.DiGraph: A candidate graph with only nodes.\n",
    "    \"\"\"\n",
    "    cand_graph = nx.DiGraph()\n",
    "    print(\"Extracting nodes from segmentation\")\n",
    "    for t in tqdm(range(len(segmentation))):\n",
    "        seg_frame = segmentation[t]\n",
    "        props = skimage.measure.regionprops(seg_frame)\n",
    "        for regionprop in props:\n",
    "            node_id = regionprop.label\n",
    "            attrs = {\n",
    "                \"time\": t,\n",
    "                \"pos\": list(regionprop.centroid)\n",
    "            }\n",
    "            cand_graph.add_node(node_id, **attrs)\n",
    "        \n",
    "    return cand_graph\n",
    "\n",
    "cand_graph = nodes_from_segmentation(segmentation)"
   ]
  },
  {
   "cell_type": "code",
   "execution_count": null,
   "metadata": {},
   "outputs": [],
   "source": [
    "# run this cell to test your implementation of the candidate graph\n",
    "assert cand_graph.number_of_nodes() == 6123, f\"Found {cand_graph.number_of_nodes()} nodes, expected 6123\"\n",
    "assert cand_graph.number_of_edges() == 0, f\"Found {cand_graph.number_of_edges()} edges, expected 0\"\n",
    "for node, data in cand_graph.nodes(data=True):\n",
    "    assert type(node) == int, f\"Node id {node} has type {type(node)}, expected 'int'\"\n",
    "    assert \"time\" in data, f\"'time' attribute missing for node {node}\"\n",
    "    assert type(data[\"time\"]) == int, f\"'time' attribute has type {type(data['time'])}, expected 'int'\"\n",
    "    assert \"pos\" in data, f\"'pos' attribute missing for node {node}\"\n",
    "    assert type(data[\"pos\"]) == list, f\"'pos' attribute has type {type(data['pos'])}, expected 'list'\"\n",
    "    assert len(data[\"pos\"]) == 2, f\"'pos' attribute has length {len(data['pos'])}, expected 2\"\n",
    "    assert type(data[\"pos\"][0]) in [float, np.float64], f\"'pos' attribute element 0 has type {type(data['pos'][0])}, expected 'float' or 'np.float64\"\n",
    "print(\"Your candidate graph passed all the tests!\")"
   ]
  },
  {
   "cell_type": "markdown",
   "metadata": {},
   "source": [
    "We can visualize our candidate points using the napari Points layer. You should see one point in the center of each segmentation when we display it using the below cell."
   ]
  },
  {
   "cell_type": "code",
   "execution_count": null,
   "metadata": {},
   "outputs": [],
   "source": [
    "points_array = np.array([[data[\"time\"], *data[\"pos\"]] for node, data in cand_graph.nodes(data=True)])\n",
    "cand_points_layer = napari.layers.Points(data=points_array, name=\"cand_points\")\n",
    "viewer.add_layer(cand_points_layer)"
   ]
  },
  {
   "cell_type": "markdown",
   "metadata": {},
   "source": [
    "### Adding Candidate Edges\n",
    "\n",
    "After extracting the nodes, we need to add candidate edges. The `add_cand_edges` function below adds candidate edges to a nodes-only graph by connecting all nodes in adjacent frames that are closer than a given max_edge_distance.\n",
    "\n",
    "Note: At the bottom of the cell, we add edges to our candidate graph with max_edge_distance=50. This is the maximum number of pixels that a cell centroid will be able to move between frames. If you want longer edges to be possible, you can increase this distance, but solving may take longer."
   ]
  },
  {
   "cell_type": "code",
   "execution_count": 25,
   "metadata": {},
   "outputs": [
    {
     "name": "stdout",
     "output_type": "stream",
     "text": [
      "Extracting candidate edges\n"
     ]
    },
    {
     "data": {
      "application/vnd.jupyter.widget-view+json": {
       "model_id": "9fd3ab4b3c18402ba74f668b667fd865",
       "version_major": 2,
       "version_minor": 0
      },
      "text/plain": [
       "  0%|          | 0/100 [00:00<?, ?it/s]"
      ]
     },
     "metadata": {},
     "output_type": "display_data"
    }
   ],
   "source": [
    "def _compute_node_frame_dict(cand_graph: nx.DiGraph) -> dict[int, list[Any]]:\n",
    "    \"\"\"Compute dictionary from time frames to node ids for candidate graph.\n",
    "\n",
    "    Args:\n",
    "        cand_graph (nx.DiGraph): A networkx graph\n",
    "\n",
    "    Returns:\n",
    "        dict[int, list[Any]]: A mapping from time frames to lists of node ids.\n",
    "    \"\"\"\n",
    "    node_frame_dict: dict[int, list[Any]] = {}\n",
    "    for node, data in cand_graph.nodes(data=True):\n",
    "        t = data[\"time\"]\n",
    "        if t not in node_frame_dict:\n",
    "            node_frame_dict[t] = []\n",
    "        node_frame_dict[t].append(node)\n",
    "    return node_frame_dict\n",
    "\n",
    "def create_kdtree(cand_graph: nx.DiGraph, node_ids: Iterable[Any]) -> scipy.spatial.KDTree:\n",
    "    positions = [cand_graph.nodes[node][\"pos\"] for node in node_ids]\n",
    "    return scipy.spatial.KDTree(positions)\n",
    "\n",
    "def add_cand_edges(\n",
    "    cand_graph: nx.DiGraph,\n",
    "    max_edge_distance: float,\n",
    ") -> None:\n",
    "    \"\"\"Add candidate edges to a candidate graph by connecting all nodes in adjacent\n",
    "    frames that are closer than max_edge_distance. Also adds attributes to the edges.\n",
    "\n",
    "    Args:\n",
    "        cand_graph (nx.DiGraph): Candidate graph with only nodes populated. Will\n",
    "            be modified in-place to add edges.\n",
    "        max_edge_distance (float): Maximum distance that objects can travel between\n",
    "            frames. All nodes within this distance in adjacent frames will by connected\n",
    "            with a candidate edge.\n",
    "        node_frame_dict (dict[int, list[Any]] | None, optional): A mapping from frames\n",
    "            to node ids. If not provided, it will be computed from cand_graph. Defaults\n",
    "            to None.\n",
    "    \"\"\"\n",
    "    print(\"Extracting candidate edges\")\n",
    "    node_frame_dict = _compute_node_frame_dict(cand_graph)\n",
    "\n",
    "    frames = sorted(node_frame_dict.keys())\n",
    "    prev_node_ids = node_frame_dict[frames[0]]\n",
    "    prev_kdtree = create_kdtree(cand_graph, prev_node_ids)\n",
    "    for frame in tqdm(frames):\n",
    "        if frame + 1 not in node_frame_dict:\n",
    "            continue\n",
    "        next_node_ids = node_frame_dict[frame + 1]\n",
    "        next_kdtree = create_kdtree(cand_graph, next_node_ids)\n",
    "\n",
    "        matched_indices = prev_kdtree.query_ball_tree(next_kdtree, max_edge_distance)\n",
    "\n",
    "        for prev_node_id, next_node_indices in zip(prev_node_ids, matched_indices):\n",
    "            for next_node_index in next_node_indices:\n",
    "                next_node_id = next_node_ids[next_node_index]\n",
    "                cand_graph.add_edge(prev_node_id, next_node_id)\n",
    "\n",
    "        prev_node_ids = next_node_ids\n",
    "        prev_kdtree = next_kdtree\n",
    "\n",
    "add_cand_edges(cand_graph, max_edge_distance=50)"
   ]
  },
  {
   "cell_type": "markdown",
   "metadata": {},
   "source": [
    "Visualizing the candidate edges in napari is, unfortunately, not yet possible. However, we can print out the number of candidate nodes and edges, and compare it to the ground truth nodes and edgesedges. We should see that we have a few more candidate nodes than ground truth (due to false positive detections) and many more candidate edges than ground truth - our next step will be to use optimization to pick a subset of the candidate nodes and edges to generate our solution tracks."
   ]
  },
  {
   "cell_type": "code",
   "execution_count": 27,
   "metadata": {},
   "outputs": [
    {
     "name": "stdout",
     "output_type": "stream",
     "text": [
      "Our candidate graph has 637 nodes and 1013 edges\n",
      "Our ground truth track graph has 1544 nodes and 1536 edges\n"
     ]
    }
   ],
   "source": [
    "print(f\"Our candidate graph has {cand_graph.number_of_nodes()} nodes and {cand_graph.number_of_edges()} edges\")\n",
    "print(f\"Our ground truth track graph has {gt_tracks.number_of_nodes()} nodes and {gt_tracks.number_of_edges()} edges\")"
   ]
  },
  {
   "cell_type": "markdown",
   "metadata": {},
   "source": [
    "## Checkpoint 1\n",
    "<div class=\"alert alert-block alert-success\"><h3>Checkpoint 1: We have visualized our data in napari and set up a candidate graph with all possible detections and links that we could select with our optimization task. </h3>\n",
    "\n",
    "We will now together go through the `motile` <a href=https://funkelab.github.io/motile/quickstart.html#sec-quickstart>quickstart</a> example before you actually set up and run your own motile optimization. If you reach this checkpoint early, feel free to start reading through the quickstart and think of questions you want to ask!\n",
    "</div>"
   ]
  },
  {
   "cell_type": "markdown",
   "metadata": {},
   "source": [
    "## Setting Up the Tracking Optimization Problem"
   ]
  },
  {
   "cell_type": "markdown",
   "metadata": {},
   "source": [
    "As hinted earlier, our goal is to prune the candidate graph. More formally we want to find a graph $\\tilde{G}=(\\tilde{V}, \\tilde{E})$ whose vertices $\\tilde{V}$ are a subset of the candidate graph vertices $V$ and whose edges $\\tilde{E}$ are a subset of the candidate graph edges $E$.\n",
    "\n",
    "\n",
    "Finding a good subgraph $\\tilde{G}=(\\tilde{V}, \\tilde{E})$ can be formulated as an [integer linear program (ILP)](https://en.wikipedia.org/wiki/Integer_programming) (also, refer to the tracking lecture slides), where we assign a binary variable $x$ and a cost $c$ to each vertex and edge in $G$, and then computing $min_x c^Tx$.\n",
    "\n",
    "A set of linear constraints ensures that the solution will be a feasible cell tracking graph. For example, if an edge is part of $\\tilde{G}$, both its incident nodes have to be part of $\\tilde{G}$ as well.\n",
    "\n",
    "`motile` ([docs here](https://funkelab.github.io/motile/)), makes it easy to link with an ILP in python by implementing commong linking constraints and costs. \n",
    "\n",
    "TODO: delete this?"
   ]
  },
  {
   "cell_type": "markdown",
   "metadata": {},
   "source": [
    "## Task 3 - Basic tracking with motile\n",
    "<div class=\"alert alert-block alert-info\"><h3>Task 3: Set up a basic motile tracking pipeline</h3>\n",
    "<p>Use the motile <a href=https://funkelab.github.io/motile/quickstart.html#sec-quickstart>quickstart</a> example to set up a basic motile pipeline for our task. \n",
    "\n",
    "Here are some key similarities and differences between the quickstart and our task:\n",
    "<ul>\n",
    "    <li>We do not have scores on our nodes. This means we do not need to include a `NodeSelection` cost.</li>\n",
    "    <li>We also do not have scores on our edges. However, we can use the edge distance as a cost, so that longer edges are more costly than shorter edges. Instead of using the `EdgeSelection` cost, we can use the <a href=https://funkelab.github.io/motile/api.html#edgedistance>`EdgeDistance`</a> cost with `position_attribute=\"pos\"`. You will want a positive weight, since higher distances should be more costly, unlike in the example when higher scores were good and so we inverted them with a negative weight.</li>\n",
    "    <li>Because distance is always positive, and you want a positive weight, you will want to include a negative constant on the `EdgeDistance` cost. If there are no negative selection costs, the ILP will always select nothing, because the cost of selecting nothing is zero.</li>\n",
    "    <li>We want to allow divisions. So, we should pass in 2 to our `MaxChildren` constraint. The `MaxParents` constraint should have 1, the same as the quickstart, because neither task allows merging.</li>\n",
    "    <li>You should include an Appear cost similar to the one in the quickstart.</li>\n",
    "</ul>\n",
    "\n",
    "Once you have set up the basic motile optimization task in the function below, you will probably need to adjust the weight and constant values on your costs until you get a solution that looks reasonable.\n",
    "\n",
    "</p>\n",
    "</div>\n"
   ]
  },
  {
   "cell_type": "code",
   "execution_count": 56,
   "metadata": {},
   "outputs": [],
   "source": [
    "def solve_basic_optimization(graph):\n",
    "    \"\"\"Set up and solve the network flow problem.\n",
    "\n",
    "    Args:\n",
    "        graph (motile.TrackGraph): The candidate graph.\n",
    "\n",
    "    Returns:\n",
    "        nx.DiGraph: The networkx digraph with the selected solution tracks\n",
    "    \"\"\"\n",
    "    cand_trackgraph = motile.TrackGraph(graph, frame_attribute=\"time\")\n",
    "    solver = motile.Solver(cand_trackgraph)\n",
    "    \n",
    "    solver.add_cost(motile.costs.EdgeDistance(\n",
    "        weight = -1.0,\n",
    "        position_attribute= \"pos\"\n",
    "    ))\n",
    "\n",
    "    solver.add_constraint(MaxParents(1))\n",
    "    solver.add_constraint(MaxChildren(2))\n",
    "\n",
    "    # solver.add_cost(Appear(constant=1.0))\n",
    "\n",
    "\n",
    "    solution = solver.solve()\n",
    "    solution_graph = graph_to_nx(solver.get_selected_subgraph())\n",
    "    return solution_graph"
   ]
  },
  {
   "cell_type": "markdown",
   "metadata": {},
   "source": [
    "Here is a utility function to gauge some statistics of a solution."
   ]
  },
  {
   "cell_type": "code",
   "execution_count": 57,
   "metadata": {},
   "outputs": [],
   "source": [
    "from motile_toolbox.candidate_graph import graph_to_nx\n",
    "def print_graph_stats(graph, name):\n",
    "    print(f\"{name}\\t\\t{graph.number_of_nodes()} nodes\\t{graph.number_of_edges()} edges\\t{len(list(nx.weakly_connected_components(graph)))} tracks\")"
   ]
  },
  {
   "cell_type": "markdown",
   "metadata": {},
   "source": [
    "Here we actually run the optimization, and compare the found solution to the ground truth.\n",
    "\n",
    "<div class=\"alert alert-block alert-warning\"><h3>Gurobi license error</h3>\n",
    "Please ignore the warning `Could not create Gurobi backend ...`.\n",
    "\n",
    "\n",
    "Our integer linear program (ILP) tries to use the proprietary solver Gurobi. You probably don't have a license, in which case the ILP will fall back to the open source solver SCIP.\n",
    "</div>"
   ]
  },
  {
   "cell_type": "code",
   "execution_count": 58,
   "metadata": {},
   "outputs": [
    {
     "name": "stdout",
     "output_type": "stream",
     "text": [
      "Could not create Gurobi backend: Gurobi error in ilpy/impl/solvers/GurobiBackend.cpp:22: PIP license can only be used from gurobipy interface\n"
     ]
    },
    {
     "ename": "AssertionError",
     "evalue": "Nodes in the track graph need to have (at least) a frame attribute t",
     "output_type": "error",
     "traceback": [
      "\u001b[0;31m---------------------------------------------------------------------------\u001b[0m",
      "\u001b[0;31mAssertionError\u001b[0m                            Traceback (most recent call last)",
      "Cell \u001b[0;32mIn[58], line 2\u001b[0m\n\u001b[1;32m      1\u001b[0m \u001b[39m# run this cell to actually run the solving and get a solution\u001b[39;00m\n\u001b[0;32m----> 2\u001b[0m solution_tracks \u001b[39m=\u001b[39m solve_basic_optimization(cand_graph)\n\u001b[1;32m      4\u001b[0m \u001b[39m# then print some statistics about the solution compared to the ground truth\u001b[39;00m\n\u001b[1;32m      5\u001b[0m print_graph_stats(solution_tracks, \u001b[39m\"\u001b[39m\u001b[39msolution\u001b[39m\u001b[39m\"\u001b[39m)\n",
      "Cell \u001b[0;32mIn[56], line 25\u001b[0m, in \u001b[0;36msolve_basic_optimization\u001b[0;34m(graph)\u001b[0m\n\u001b[1;32m     21\u001b[0m \u001b[39m# solver.add_cost(Appear(constant=1.0))\u001b[39;00m\n\u001b[1;32m     24\u001b[0m solution \u001b[39m=\u001b[39m solver\u001b[39m.\u001b[39msolve()\n\u001b[0;32m---> 25\u001b[0m solution_graph \u001b[39m=\u001b[39m graph_to_nx(solver\u001b[39m.\u001b[39;49mget_selected_subgraph())\n\u001b[1;32m     26\u001b[0m \u001b[39mreturn\u001b[39;00m solution_graph\n",
      "File \u001b[0;32m/groups/funke/home/sistaa/miniforge3/envs/09-tracking/lib/python3.11/site-packages/motile/solver.py:322\u001b[0m, in \u001b[0;36mSolver.get_selected_subgraph\u001b[0;34m(self, solution)\u001b[0m\n\u001b[1;32m    320\u001b[0m \u001b[39mfor\u001b[39;00m node_id, node \u001b[39min\u001b[39;00m \u001b[39mself\u001b[39m\u001b[39m.\u001b[39mgraph\u001b[39m.\u001b[39mnodes\u001b[39m.\u001b[39mitems():\n\u001b[1;32m    321\u001b[0m     \u001b[39mif\u001b[39;00m solution[node_selected[node_id]] \u001b[39m>\u001b[39m \u001b[39m0.5\u001b[39m:\n\u001b[0;32m--> 322\u001b[0m         selected_graph\u001b[39m.\u001b[39;49madd_node(node_id, node)\n\u001b[1;32m    324\u001b[0m \u001b[39mfor\u001b[39;00m edge_id, edge \u001b[39min\u001b[39;00m \u001b[39mself\u001b[39m\u001b[39m.\u001b[39mgraph\u001b[39m.\u001b[39medges\u001b[39m.\u001b[39mitems():\n\u001b[1;32m    325\u001b[0m     \u001b[39mif\u001b[39;00m solution[edge_selected[edge_id]] \u001b[39m>\u001b[39m \u001b[39m0.5\u001b[39m:\n",
      "File \u001b[0;32m/groups/funke/home/sistaa/miniforge3/envs/09-tracking/lib/python3.11/site-packages/motile/track_graph.py:64\u001b[0m, in \u001b[0;36madd_node\u001b[0;34m(self, node_id, data)\u001b[0m\n",
      "\u001b[0;31mAssertionError\u001b[0m: Nodes in the track graph need to have (at least) a frame attribute t"
     ]
    }
   ],
   "source": [
    "# run this cell to actually run the solving and get a solution\n",
    "solution_graph = solve_basic_optimization(cand_graph)\n",
    "\n",
    "# then print some statistics about the solution compared to the ground truth\n",
    "print_graph_stats(solution_graph, \"solution\")\n",
    "print_graph_stats(gt_tracks, \"gt tracks\")\n",
    "\n"
   ]
  },
  {
   "cell_type": "markdown",
   "metadata": {},
   "source": [
    "<div class=\"alert alert-block alert-warning\"><h3>Question 1: Interpret your results based on statistics</h3>\n",
    "<p>\n",
    "What do these printed statistics tell you about your solution? What else would you like to know?\n",
    "</p>\n",
    "</div>"
   ]
  },
  {
   "cell_type": "markdown",
   "metadata": {},
   "source": [
    "## Visualize the Result\n",
    "Rather than just looking at printed statistics about our solution, let's visualize it in `napari`.\n",
    "\n",
    "This involves two steps:\n",
    "1. First, we can add a tracks layer with the solution graph.\n",
    "2. Second, we can add another segmentation layer, where the segmentations are relabeled so that the same cell will be the same color over time. Cells will still change color at division.\n",
    "\n",
    "Note that bad tracking results at this point does not mean that you implemented anything wrong! We still need to customize our costs and constraints to the task before we can get good results. As long as your pipeline selects something, and you can kind of interepret why it is going wrong, that is all that is needed at this point."
   ]
  },
  {
   "cell_type": "code",
   "execution_count": null,
   "metadata": {},
   "outputs": [],
   "source": [
    "# Add a tracks layer\n",
    "tracks_layer = to_napari_tracks_layer(solution_graphs, frame_key=\"time\", location_key=\"pos\", name=\"solution_tracks\")\n",
    "viewer.add_layer(tracks_layer)"
   ]
  },
  {
   "cell_type": "code",
   "execution_count": 35,
   "metadata": {},
   "outputs": [
    {
     "ename": "NameError",
     "evalue": "name 'solution_tracks' is not defined",
     "output_type": "error",
     "traceback": [
      "\u001b[0;31m---------------------------------------------------------------------------\u001b[0m",
      "\u001b[0;31mNameError\u001b[0m                                 Traceback (most recent call last)",
      "Cell \u001b[0;32mIn[35], line 42\u001b[0m\n\u001b[1;32m     38\u001b[0m         id_counter \u001b[39m+\u001b[39m\u001b[39m=\u001b[39m \u001b[39m1\u001b[39m\n\u001b[1;32m     39\u001b[0m     \u001b[39mreturn\u001b[39;00m tracked_masks\n\u001b[0;32m---> 42\u001b[0m solution_seg \u001b[39m=\u001b[39m relabel_segmentation(solution_tracks, segmentation)\n\u001b[1;32m     43\u001b[0m viewer\u001b[39m.\u001b[39madd_labels(solution_seg, name\u001b[39m=\u001b[39m\u001b[39m\"\u001b[39m\u001b[39msolution_seg\u001b[39m\u001b[39m\"\u001b[39m)\n",
      "\u001b[0;31mNameError\u001b[0m: name 'solution_tracks' is not defined"
     ]
    }
   ],
   "source": [
    "# recolor the segmentation\n",
    "\n",
    "def relabel_segmentation(\n",
    "    solution_nx_graph: nx.DiGraph,\n",
    "    segmentation: np.ndarray,\n",
    ") -> np.ndarray:\n",
    "    \"\"\"Relabel a segmentation based on tracking results so that nodes in same\n",
    "    track share the same id. IDs do change at division.\n",
    "\n",
    "    Args:\n",
    "        solution_nx_graph (nx.DiGraph): Networkx graph with the solution to use\n",
    "            for relabeling. Nodes not in graph will be removed from seg. Original\n",
    "            segmentation ids and hypothesis ids have to be stored in the graph so we\n",
    "            can map them back.\n",
    "        segmentation (np.ndarray): Original (potentially multi-hypothesis)\n",
    "            segmentation with dimensions (t,h,[z],y,x), where h is 1 for single\n",
    "            input segmentation.\n",
    "\n",
    "    Returns:\n",
    "        np.ndarray: Relabeled segmentation array where nodes in same track share same\n",
    "            id with shape (t,1,[z],y,x)\n",
    "    \"\"\"\n",
    "    tracked_masks = np.zeros_like(segmentation)\n",
    "    id_counter = 1\n",
    "    parent_nodes = [n for (n, d) in solution_nx_graph.out_degree() if d > 1]\n",
    "    soln_copy = solution_nx_graph.copy()\n",
    "    for parent_node in parent_nodes:\n",
    "        out_edges = solution_nx_graph.out_edges(parent_node)\n",
    "        soln_copy.remove_edges_from(out_edges)\n",
    "    for node_set in nx.weakly_connected_components(soln_copy):\n",
    "        for node in node_set:\n",
    "            time_frame = solution_nx_graph.nodes[node][\"time\"]\n",
    "            previous_seg_id = node\n",
    "            previous_seg_mask = (\n",
    "                segmentation[time_frame] == previous_seg_id\n",
    "            )\n",
    "            tracked_masks[time_frame][previous_seg_mask] = id_counter\n",
    "        id_counter += 1\n",
    "    return tracked_masks\n",
    "\n",
    "\n",
    "solution_seg = relabel_segmentation(solution_graph, segmentation)\n",
    "viewer.add_labels(solution_seg, name=\"solution_seg\")"
   ]
  },
  {
   "cell_type": "markdown",
   "metadata": {},
   "source": [
    "<div class=\"alert alert-block alert-warning\"><h3>Question 2: Interpret your results based on visualization</h3>\n",
    "<p>\n",
    "How is your solution based on looking at the visualization? When is it doing well? When is it doing poorly?\n",
    "</p>\n",
    "</div>\n"
   ]
  },
  {
   "cell_type": "markdown",
   "metadata": {},
   "source": [
    "## Checkpoint 2\n",
    "<div class=\"alert alert-block alert-success\"><h3>Checkpoint 2</h3>\n",
    "We have set up and run a basic ILP to get tracks and visualized the output.  \n",
    "\n",
    "We will go over the code and discuss the answers to Questions 1 and 2 together soon. If you have extra time, think about what kinds of improvements you could make to the costs and constraints to fix the issues that you are seeing. You can even try tuning your weights and constants, or adding or removing motile Costs and Constraints, and seeing how that changes the output.\n",
    "</div>"
   ]
  },
  {
   "cell_type": "markdown",
   "metadata": {},
   "source": [
    "## Evaluation Metrics\n",
    "\n",
    "We were able to understand via visualizing the predicted tracks on the images that the basic solution is far from perfect for this problem.\n",
    "\n",
    "Additionally, we would also like to quantify this. We will use the package [`traccuracy`](https://traccuracy.readthedocs.io/en/latest/) to calculate some [standard metrics for cell tracking](http://celltrackingchallenge.net/evaluation-methodology/). For example, a high-level indicator for tracking performance is called TRA.\n",
    "\n",
    "If you're interested in more detailed metrics, you can check out for example the false positive (FP) and false negative (FN) nodes, edges and division events."
   ]
  },
  {
   "cell_type": "code",
   "execution_count": null,
   "metadata": {},
   "outputs": [],
   "source": [
    "def get_metrics(gt_graph, labels, pred_graph, pred_segmentation):\n",
    "    \"\"\"Calculate metrics for linked tracks by comparing to ground truth.\n",
    "\n",
    "    Args:\n",
    "        gt_graph (networkx.DiGraph): Ground truth graph.\n",
    "        labels (np.ndarray): Ground truth detections.\n",
    "        pred_graph (networkx.DiGraph): Predicted graph.\n",
    "        pred_segmentation (np.ndarray): Predicted dense segmentation.\n",
    "\n",
    "    Returns:\n",
    "        results (dict): Dictionary of metric results.\n",
    "    \"\"\"\n",
    "\n",
    "    gt_graph = traccuracy.TrackingGraph(\n",
    "        graph=gt_graph,\n",
    "        frame_key=\"time\",\n",
    "        label_key=\"show\",\n",
    "        location_keys=(\"x\", \"y\"),\n",
    "        segmentation=labels,\n",
    "    )\n",
    "\n",
    "    pred_graph = traccuracy.TrackingGraph(\n",
    "        graph=pred_graph,\n",
    "        frame_key=\"time\",\n",
    "        label_key=\"show\",\n",
    "        location_keys=(\"x\", \"y\"),\n",
    "        segmentation=pred_segmentation,\n",
    "    )\n",
    "\n",
    "    results = run_metrics(\n",
    "        gt_data=gt_graph,\n",
    "        pred_data=pred_graph,\n",
    "        matcher=CTCMatcher(),\n",
    "        metrics=[CTCMetrics(), DivisionMetrics()],\n",
    "    )\n",
    "\n",
    "    return results"
   ]
  },
  {
   "cell_type": "code",
   "execution_count": null,
   "metadata": {},
   "outputs": [],
   "source": [
    "get_metrics(gt_nx_graph, None, solution_graph, solution_seg)"
   ]
  },
  {
   "cell_type": "markdown",
   "metadata": {},
   "source": [
    "## Task 4 - Add an appear cost, but not at the boundary\n",
    "The [Appear](https://funkelab.github.io/motile/api.html#motile.costs.Appear_) cost penalizes starting a new track, encouraging continuous tracks. However, you do not want to penalize tracks that appear in the first frame. In our case, we probably also do not want to penalize appearing at the \"bottom\" of the dataset. The built in Appear cost has an `ignore_attribute` argument, where if the node has that attribute and it evaluates to True, the Appear cost will not be paid for that node.\n",
    "\n",
    "<div class=\"alert alert-block alert-info\"><h3>Task 4: Add an appear cost, but not at the boundary</h3>\n",
    "<p> Add an attribute to the nodes of our candidate graph that is True if the appear cost should NOT be paid for that node, and False (or not present) otherwise. Then add an Appear cost to our motile pipeline using our new attribute as the `ignore_attribute` argument, and re-solve to see if performance improves.</p>\n",
    "</div>"
   ]
  },
  {
   "cell_type": "code",
   "execution_count": null,
   "metadata": {},
   "outputs": [],
   "source": [
    "def add_appear_ignore_attr(cand_graph):\n",
    "    ### YOUR CODE HERE ###\n",
    "    pass  # delete this\n",
    "\n",
    "add_appear_ignore_attr(cand_graph)"
   ]
  },
  {
   "cell_type": "code",
   "execution_count": null,
   "metadata": {},
   "outputs": [],
   "source": [
    "def solve_appear_optimization(graph, edge_weight, edge_constant):\n",
    "    \"\"\"Set up and solve the network flow problem.\n",
    "\n",
    "    Args:\n",
    "        graph (motile.TrackGraph): The candidate graph.\n",
    "        edge_weight (float): The weighting factor of the edge selection cost.\n",
    "        edge_constant(float): The constant cost of selecting any edge.\n",
    "\n",
    "    Returns:\n",
    "        motile.Solver: The solver object, ready to be inspected.\n",
    "    \"\"\"\n",
    "    solver = motile.Solver(graph)\n",
    "\n",
    "    solver.add_costs(\n",
    "        motile.costs.EdgeDistance(weight=edge_weight, constant=edge_constant, position_attribute=\"pos\")\n",
    "    )\n",
    "    solver.add_costs(\n",
    "        motile.costs.Appear(constant=50, ignore_attribute=\"ignore_appear\") \n",
    "    )\n",
    "\n",
    "    solver.add_constraints(motile.constraints.MaxParents(1))\n",
    "    solver.add_constraints(motile.constraints.MaxChildren(2))\n",
    "\n",
    "    solution = solver.solve()\n",
    "\n",
    "    return solver\n",
    "\n",
    "solver = solve_appear_optimization(cand_trackgraph, 1, -20)\n",
    "solution_graph = graph_to_nx(solver.get_selected_subgraph())"
   ]
  },
  {
   "cell_type": "code",
   "execution_count": null,
   "metadata": {},
   "outputs": [],
   "source": [
    "tracks_layer = to_napari_tracks_layer(solution_graph, frame_key=\"time\", location_key=\"pos\", name=\"solution_appear_tracks\")\n",
    "viewer.add_layer(tracks_layer)\n",
    "solution_seg = relabel_segmentation(solution_graph, segmentation)\n",
    "viewer.add_labels(solution_seg, name=\"solution_appear_seg\")"
   ]
  },
  {
   "cell_type": "code",
   "execution_count": null,
   "metadata": {},
   "outputs": [],
   "source": [
    "get_metrics(gt_tracks, None, solution_graph, solution_seg)"
   ]
  },
  {
   "cell_type": "markdown",
   "metadata": {},
   "source": [
    "## Checkpoint 3\n",
    "<div class=\"alert alert-block alert-success\"><h3>Checkpoint 3</h3>\n",
    "We have run an ILP to get tracks, visualized the output, evaluated the results, and added an Appear cost that does not take effect at the boundary. If you reach this Checkpoint early, try adjusting your weights or using different combinations of built-in Costs and Constraints to get better results. Also consider custom Costs or Constraints that would help for this task!\n",
    "\n",
    "When most people have reached this checkpoint, we will go around and\n",
    "share what worked and what did not, and discuss ideas for custom costs or constraints.\n",
    "</div>"
   ]
  },
  {
   "cell_type": "markdown",
   "metadata": {},
   "source": [
    "## Customizing the Tracking Task\n",
    "\n",
    "There 3 main ways to encode prior knowledge about your task into the motile tracking pipeline.\n",
    "1. Add an attribute to the candidate graph and incorporate it with a Selection cost\n",
    "2. Change the structure of the candidate graph\n",
    "3. Add a new type of cost or constraint"
   ]
  },
  {
   "cell_type": "markdown",
   "metadata": {},
   "source": [
    "## Task 5 - Incorporating Known Direction of Motion\n",
    "\n",
    "Motile has built in the EdgeDistance as an edge selection cost, which penalizes longer edges by computing the Euclidean distance between the endpoints. However, in our dataset we see a trend of upward motion in the cells, and the false detections at the top are not moving. If we penalize movement based on what we expect, rather than Euclidean distance, we can select more correct cells and penalize the non-moving artefacts at the same time.\n",
    " \n",
    "<div class=\"alert alert-block alert-info\"><h3>Task 5: Incorporating known direction of motion</h3>\n",
    "<p> For this task, we need to determine the \"expected\" amount of motion, then add an attribute to our candidate edges that represents distance from the expected motion direction. Finally, we can incorporate that feature into the ILP via the EdgeSelection cost and see if it improves performance.</p>\n",
    "</div>"
   ]
  },
  {
   "cell_type": "code",
   "execution_count": null,
   "metadata": {},
   "outputs": [],
   "source": [
    "drift = ... ### YOUR CODE HERE ###\n",
    "\n",
    "def add_drift_dist_attr(cand_graph, drift):\n",
    "    for edge in cand_graph.edges():\n",
    "        ### YOUR CODE HERE ###\n",
    "        # get the location of the endpoints of the edge\n",
    "        # then compute the distance between the expected movement and the actual movement\n",
    "        # and save it in the \"drift_dist\" attribute (below)\n",
    "        cand_graph.edges[edge][\"drift_dist\"] = drift_dist\n",
    "\n",
    "add_drift_dist_attr(cand_graph, drift)\n",
    "cand_trackgraph = motile.TrackGraph(cand_graph, frame_attribute=\"time\")"
   ]
  },
  {
   "cell_type": "code",
   "execution_count": null,
   "metadata": {},
   "outputs": [],
   "source": [
    "def solve_drift_optimization(graph, edge_weight, edge_constant):\n",
    "    \"\"\"Set up and solve the network flow problem.\n",
    "\n",
    "    Args:\n",
    "        graph (motile.TrackGraph): The candidate graph.\n",
    "        edge_weight (float): The weighting factor of the edge selection cost.\n",
    "        edge_constant(float): The constant cost of selecting any edge.\n",
    "\n",
    "    Returns:\n",
    "        motile.Solver: The solver object, ready to be inspected.\n",
    "    \"\"\"\n",
    "    solver = motile.Solver(graph)\n",
    "\n",
    "    solver.add_costs(\n",
    "        motile.costs.EdgeSelection(weight=edge_weight, constant=edge_constant, attribute=\"drift_dist\")\n",
    "    )\n",
    "    solver.add_costs(\n",
    "        motile.costs.Appear(constant=50, ignore_attribute=\"ignore_appear\") \n",
    "    )\n",
    "\n",
    "    solver.add_constraints(motile.constraints.MaxParents(1))\n",
    "    solver.add_constraints(motile.constraints.MaxChildren(2))\n",
    "\n",
    "    solution = solver.solve()\n",
    "\n",
    "    return solver\n",
    "\n",
    "solver = solve_drift_optimization(cand_trackgraph, 1, -20)\n",
    "solution_graph = graph_to_nx(solver.get_selected_subgraph())"
   ]
  },
  {
   "cell_type": "code",
   "execution_count": null,
   "metadata": {},
   "outputs": [],
   "source": [
    "tracks_layer = to_napari_tracks_layer(solution_graph, frame_key=\"time\", location_key=\"pos\", name=\"solution_tracks_with_drift\")\n",
    "viewer.add_layer(tracks_layer)\n",
    "\n",
    "solution_seg = relabel_segmentation(solution_graph, segmentation)\n",
    "viewer.add_labels(solution_seg, name=\"solution_seg_with_drift\")"
   ]
  },
  {
   "cell_type": "code",
   "execution_count": null,
   "metadata": {},
   "outputs": [],
   "source": [
    "get_metrics(gt_nx_graph, None, solution_graph, solution_seg)"
   ]
  },
  {
   "cell_type": "markdown",
   "metadata": {},
   "source": [
    "## Checkpoint 4\n",
    "<div class=\"alert alert-block alert-success\"><h3>Checkpoint 4</h3>\n",
    "That is the end of the main exercise! If you have extra time, feel free to go onto the below bonus exercise to see how to learn the weights of your costs instead of setting them manually.\n",
    "</div>"
   ]
  },
  {
   "cell_type": "markdown",
   "metadata": {},
   "source": [
    "## Bonus: Learning the Weights"
   ]
  },
  {
   "cell_type": "markdown",
   "metadata": {},
   "source": []
  }
 ],
 "metadata": {
  "kernelspec": {
   "display_name": "09-tracking",
   "language": "python",
   "name": "python3"
  },
  "language_info": {
   "codemirror_mode": {
    "name": "ipython",
    "version": 3
   },
   "file_extension": ".py",
   "mimetype": "text/x-python",
   "name": "python",
   "nbconvert_exporter": "python",
   "pygments_lexer": "ipython3",
   "version": "3.11.9"
  },
  "orig_nbformat": 4
 },
 "nbformat": 4,
 "nbformat_minor": 2
}
